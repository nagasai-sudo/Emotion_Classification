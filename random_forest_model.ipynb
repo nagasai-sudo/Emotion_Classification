{
 "cells": [
  {
   "cell_type": "markdown",
   "id": "cb649d81",
   "metadata": {},
   "source": [
    "# Random Forest Classifier for Facial Emotion Recognition\n",
    "\n",
    "This model is a Random Forest Classifier that has been trained to recognize face emotions. It classifies facial expressions into distinct emotion categories using a set of decision trees.\n"
   ]
  },
  {
   "cell_type": "code",
   "execution_count": 1,
   "id": "f3d7847d",
   "metadata": {},
   "outputs": [],
   "source": [
    "import pandas as pd\n",
    "from sklearn.ensemble import RandomForestClassifier\n",
    "from sklearn.metrics import accuracy_score\n",
    "from sklearn.model_selection import train_test_split"
   ]
  },
  {
   "cell_type": "code",
   "execution_count": 2,
   "id": "ef5f280a",
   "metadata": {},
   "outputs": [],
   "source": [
    "data = pd.read_csv('fer2013.csv')\n"
   ]
  },
  {
   "cell_type": "code",
   "execution_count": 3,
   "id": "4242a5ae",
   "metadata": {},
   "outputs": [],
   "source": [
    "# Spliting into train, val, test sets\n",
    "train_data = data[data.Usage == 'Training']\n",
    "test_data = data[data.Usage == 'PrivateTest']\n",
    "val_data = data[data.Usage == 'PublicTest']"
   ]
  },
  {
   "cell_type": "code",
   "execution_count": 4,
   "id": "3d2aec8f",
   "metadata": {},
   "outputs": [],
   "source": [
    "import numpy as np\n",
    "# Preprocessing images\n",
    "def preprocess(data):\n",
    "    X = []\n",
    "    y = []\n",
    "    for i in range(len(data)):\n",
    "        img = data.iloc[i]['pixels'].split(' ')\n",
    "        img = np.array(img, dtype='float32')\n",
    "        img = img / 255.0\n",
    "        X.append(img)\n",
    "        y.append(data.iloc[i]['emotion'])\n",
    "    X = np.array(X)\n",
    "    y = np.array(y)\n",
    "    return X, y\n",
    "\n",
    "X_train, y_train = preprocess(train_data)\n",
    "X_val, y_val = preprocess(val_data)\n",
    "X_test, y_test = preprocess(test_data)"
   ]
  },
  {
   "cell_type": "code",
   "execution_count": 5,
   "id": "956035aa",
   "metadata": {},
   "outputs": [],
   "source": [
    "X_train = X_train.reshape(X_train.shape[0], -1)\n",
    "X_val = X_val.reshape(X_val.shape[0], -1)\n",
    "X_test = X_test.reshape(X_test.shape[0], -1)\n",
    "\n"
   ]
  },
  {
   "cell_type": "markdown",
   "id": "61de39df",
   "metadata": {},
   "source": [
    "# Without Regularization\n",
    "\n",
    "\n",
    "The model is trained using the training dataset provided.\n",
    "1. During initialization, the number of estimators (decision trees), maximum depth, and random state are provided.\n",
    "2. The model is adjusted to account for the training features and labels.\n",
    "\n",
    "The model's performance is assessed using the test dataset after training.\n"
   ]
  },
  {
   "cell_type": "code",
   "execution_count": 6,
   "id": "edd7ceb6",
   "metadata": {},
   "outputs": [],
   "source": [
    "rf = RandomForestClassifier(n_estimators=200, max_depth=20, random_state=42, verbose=1)\n"
   ]
  },
  {
   "cell_type": "code",
   "execution_count": 7,
   "id": "ee8dbe4b",
   "metadata": {},
   "outputs": [
    {
     "name": "stderr",
     "output_type": "stream",
     "text": [
      "[Parallel(n_jobs=1)]: Using backend SequentialBackend with 1 concurrent workers.\n",
      "[Parallel(n_jobs=1)]: Done 200 out of 200 | elapsed: 13.2min finished\n"
     ]
    },
    {
     "data": {
      "text/plain": [
       "RandomForestClassifier(max_depth=20, n_estimators=200, random_state=42,\n",
       "                       verbose=1)"
      ]
     },
     "execution_count": 7,
     "metadata": {},
     "output_type": "execute_result"
    }
   ],
   "source": [
    "rf.fit(X_train, y_train)\n"
   ]
  },
  {
   "cell_type": "code",
   "execution_count": 8,
   "id": "1b5faaac",
   "metadata": {},
   "outputs": [
    {
     "name": "stderr",
     "output_type": "stream",
     "text": [
      "[Parallel(n_jobs=1)]: Using backend SequentialBackend with 1 concurrent workers.\n",
      "[Parallel(n_jobs=1)]: Done 200 out of 200 | elapsed:    0.9s finished\n"
     ]
    }
   ],
   "source": [
    "y_pred = rf.predict(X_test)"
   ]
  },
  {
   "cell_type": "code",
   "execution_count": 10,
   "id": "fa830173",
   "metadata": {},
   "outputs": [
    {
     "name": "stderr",
     "output_type": "stream",
     "text": [
      "[Parallel(n_jobs=1)]: Using backend SequentialBackend with 1 concurrent workers.\n",
      "[Parallel(n_jobs=1)]: Done 200 out of 200 | elapsed:    6.0s finished\n"
     ]
    }
   ],
   "source": [
    "y_train_pred = rf.predict(X_train)"
   ]
  },
  {
   "cell_type": "code",
   "execution_count": 11,
   "id": "16b78c77",
   "metadata": {},
   "outputs": [
    {
     "name": "stdout",
     "output_type": "stream",
     "text": [
      "Accuracy: 0.47617720813597103\n",
      "              precision    recall  f1-score   support\n",
      "\n",
      "           0       0.54      0.18      0.27       491\n",
      "           1       1.00      0.33      0.49        55\n",
      "           2       0.53      0.29      0.38       528\n",
      "           3       0.45      0.77      0.57       879\n",
      "           4       0.37      0.38      0.38       594\n",
      "           5       0.70      0.62      0.66       416\n",
      "           6       0.46      0.45      0.45       626\n",
      "\n",
      "    accuracy                           0.48      3589\n",
      "   macro avg       0.58      0.43      0.46      3589\n",
      "weighted avg       0.50      0.48      0.46      3589\n",
      "\n"
     ]
    }
   ],
   "source": [
    "from sklearn.metrics import accuracy_score, classification_report\n",
    "print(\"Accuracy:\", accuracy_score(y_test, y_pred))\n",
    "print(classification_report(y_test, y_pred))"
   ]
  },
  {
   "cell_type": "code",
   "execution_count": 12,
   "id": "22642578",
   "metadata": {},
   "outputs": [
    {
     "name": "stdout",
     "output_type": "stream",
     "text": [
      "Training Classification\n",
      "              precision    recall  f1-score   support\n",
      "\n",
      "       Angry       1.00      1.00      1.00      3995\n",
      "     Disgust       1.00      1.00      1.00       436\n",
      "        Fear       1.00      1.00      1.00      4097\n",
      "       Happy       1.00      1.00      1.00      7215\n",
      "         Sad       1.00      1.00      1.00      4830\n",
      "    Surprise       1.00      1.00      1.00      3171\n",
      "     Neutral       1.00      1.00      1.00      4965\n",
      "\n",
      "    accuracy                           1.00     28709\n",
      "   macro avg       1.00      1.00      1.00     28709\n",
      "weighted avg       1.00      1.00      1.00     28709\n",
      "\n"
     ]
    }
   ],
   "source": [
    "from sklearn.metrics import classification_report\n",
    "\n",
    "target_names = ['Angry', 'Disgust', 'Fear', 'Happy', 'Sad', 'Surprise', 'Neutral']\n",
    "print('Training Classification')\n",
    "print(classification_report(y_train, y_train_pred, target_names=target_names, labels=[0, 1, 2, 3, 4, 5, 6]))\n"
   ]
  },
  {
   "cell_type": "markdown",
   "id": "4cb7602c",
   "metadata": {},
   "source": [
    "# Regularization using hyper parameters\n",
    "\n",
    "\n",
    "The provided training dataset is used to train the model.\n",
    "During initialization, the number of estimators (decision trees), maximum depth, maximum number of features, minimum samples split, minimum samples leaf, random state, and verbosity level are all given.\n",
    "\n",
    "The model is adjusted to account for the training features and labels.\n"
   ]
  },
  {
   "cell_type": "code",
   "execution_count": 13,
   "id": "bbfc7db9",
   "metadata": {},
   "outputs": [],
   "source": [
    "rf = RandomForestClassifier(n_estimators=200, max_depth=20, max_features='sqrt', \n",
    "                             min_samples_split=5, min_samples_leaf=1, \n",
    "                             random_state=42, verbose=1)\n"
   ]
  },
  {
   "cell_type": "code",
   "execution_count": 14,
   "id": "4959522f",
   "metadata": {},
   "outputs": [
    {
     "name": "stderr",
     "output_type": "stream",
     "text": [
      "[Parallel(n_jobs=1)]: Using backend SequentialBackend with 1 concurrent workers.\n",
      "[Parallel(n_jobs=1)]: Done 200 out of 200 | elapsed:  6.2min finished\n"
     ]
    },
    {
     "data": {
      "text/plain": [
       "RandomForestClassifier(max_depth=20, max_features='sqrt', min_samples_split=5,\n",
       "                       n_estimators=200, random_state=42, verbose=1)"
      ]
     },
     "execution_count": 14,
     "metadata": {},
     "output_type": "execute_result"
    }
   ],
   "source": [
    "rf.fit(X_train, y_train)"
   ]
  },
  {
   "cell_type": "code",
   "execution_count": 15,
   "id": "efe38baa",
   "metadata": {},
   "outputs": [
    {
     "name": "stderr",
     "output_type": "stream",
     "text": [
      "[Parallel(n_jobs=1)]: Using backend SequentialBackend with 1 concurrent workers.\n",
      "[Parallel(n_jobs=1)]: Done 200 out of 200 | elapsed:    0.9s finished\n"
     ]
    }
   ],
   "source": [
    "y_pred = rf.predict(X_test)"
   ]
  },
  {
   "cell_type": "code",
   "execution_count": 16,
   "id": "70987bb2",
   "metadata": {},
   "outputs": [
    {
     "name": "stderr",
     "output_type": "stream",
     "text": [
      "[Parallel(n_jobs=1)]: Using backend SequentialBackend with 1 concurrent workers.\n",
      "[Parallel(n_jobs=1)]: Done 200 out of 200 | elapsed:    5.2s finished\n"
     ]
    }
   ],
   "source": [
    "y_train_pred = rf.predict(X_train)"
   ]
  },
  {
   "cell_type": "code",
   "execution_count": 17,
   "id": "c1b24bb7",
   "metadata": {},
   "outputs": [
    {
     "name": "stdout",
     "output_type": "stream",
     "text": [
      "Training Classification\n",
      "              precision    recall  f1-score   support\n",
      "\n",
      "       Angry       1.00      1.00      1.00      3995\n",
      "     Disgust       1.00      0.99      1.00       436\n",
      "        Fear       1.00      1.00      1.00      4097\n",
      "       Happy       1.00      1.00      1.00      7215\n",
      "         Sad       1.00      1.00      1.00      4830\n",
      "    Surprise       1.00      1.00      1.00      3171\n",
      "     Neutral       1.00      1.00      1.00      4965\n",
      "\n",
      "    accuracy                           1.00     28709\n",
      "   macro avg       1.00      1.00      1.00     28709\n",
      "weighted avg       1.00      1.00      1.00     28709\n",
      "\n"
     ]
    }
   ],
   "source": [
    "from sklearn.metrics import classification_report\n",
    "\n",
    "target_names = ['Angry', 'Disgust', 'Fear', 'Happy', 'Sad', 'Surprise', 'Neutral']\n",
    "print('Training Classification')\n",
    "print(classification_report(y_train, y_train_pred, target_names=target_names, labels=[0, 1, 2, 3, 4, 5, 6]))\n"
   ]
  },
  {
   "cell_type": "code",
   "execution_count": 18,
   "id": "5c7920d6",
   "metadata": {},
   "outputs": [
    {
     "name": "stdout",
     "output_type": "stream",
     "text": [
      "Accuracy: 0.47506269155753694\n",
      "              precision    recall  f1-score   support\n",
      "\n",
      "           0       0.56      0.19      0.28       491\n",
      "           1       1.00      0.31      0.47        55\n",
      "           2       0.53      0.27      0.36       528\n",
      "           3       0.45      0.79      0.58       879\n",
      "           4       0.37      0.39      0.38       594\n",
      "           5       0.71      0.62      0.66       416\n",
      "           6       0.44      0.43      0.44       626\n",
      "\n",
      "    accuracy                           0.48      3589\n",
      "   macro avg       0.58      0.43      0.45      3589\n",
      "weighted avg       0.50      0.48      0.45      3589\n",
      "\n"
     ]
    }
   ],
   "source": [
    "from sklearn.metrics import accuracy_score, classification_report\n",
    "print(\"Accuracy:\", accuracy_score(y_test, y_pred))\n",
    "print(classification_report(y_test, y_pred))"
   ]
  },
  {
   "cell_type": "markdown",
   "id": "ee0ab672",
   "metadata": {},
   "source": [
    "### Analysis\n",
    "Accuracy: Both versions have similar accuracy, with roughly 48% accuracy on the test set. This shows that the regularization strategy had no discernible effect on the model's overall accuracy.\n",
    "\n",
    "Precision: The precision ratings for both models differ depending on the emotion category. However, the precision values for the majority of categories are comparable across the two models. The precision of Category 1 (Disgust) improves significantly with regularization (100% precision with regularization vs. 54% precision without regularization).\n",
    "\n",
    "Recall: The recall scores varied depending on the mood category. Again, regularization does not result in a significant improvement in recollection. Regularization improves recall in Category 1 (Disgust) (31% recall with regularization vs. 18% recall without regularization).\n",
    "\n",
    "F1-score: F1-scores, which provide a balance of precision and recall, exhibit patterns comparable to precision and recall. With regularization, Category 1 (Disgust) exhibits the greatest improvement in F1-score.\n",
    "\n",
    "Overall, Regularization using hyperparameter tuning did not have much improvement."
   ]
  },
  {
   "cell_type": "code",
   "execution_count": 1,
   "id": "8f2d23c4",
   "metadata": {},
   "outputs": [
    {
     "ename": "NameError",
     "evalue": "name 'rf' is not defined",
     "output_type": "error",
     "traceback": [
      "\u001b[1;31m---------------------------------------------------------------------------\u001b[0m",
      "\u001b[1;31mNameError\u001b[0m                                 Traceback (most recent call last)",
      "Input \u001b[1;32mIn [1]\u001b[0m, in \u001b[0;36m<cell line: 3>\u001b[1;34m()\u001b[0m\n\u001b[0;32m      1\u001b[0m \u001b[38;5;28;01mimport\u001b[39;00m \u001b[38;5;21;01mjoblib\u001b[39;00m\n\u001b[1;32m----> 3\u001b[0m joblib\u001b[38;5;241m.\u001b[39mdump(\u001b[43mrf\u001b[49m, \u001b[38;5;124m\"\u001b[39m\u001b[38;5;124mrandom_forest_model.pkl\u001b[39m\u001b[38;5;124m\"\u001b[39m)\n",
      "\u001b[1;31mNameError\u001b[0m: name 'rf' is not defined"
     ]
    }
   ],
   "source": [
    "import joblib\n",
    "\n",
    "joblib.dump(rf, \"random_forest_model.pkl\")\n"
   ]
  },
  {
   "cell_type": "code",
   "execution_count": null,
   "id": "d5c65845",
   "metadata": {},
   "outputs": [],
   "source": []
  }
 ],
 "metadata": {
  "kernelspec": {
   "display_name": "Python 3 (ipykernel)",
   "language": "python",
   "name": "python3"
  },
  "language_info": {
   "codemirror_mode": {
    "name": "ipython",
    "version": 3
   },
   "file_extension": ".py",
   "mimetype": "text/x-python",
   "name": "python",
   "nbconvert_exporter": "python",
   "pygments_lexer": "ipython3",
   "version": "3.9.12"
  }
 },
 "nbformat": 4,
 "nbformat_minor": 5
}
