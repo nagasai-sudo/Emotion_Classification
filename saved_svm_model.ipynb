{
 "cells": [
  {
   "cell_type": "markdown",
   "id": "54f6d23f",
   "metadata": {},
   "source": [
    "# Support Vector Machines\n",
    "\n",
    "This model is an SVM (Support Vector Machine) classifier trained to distinguish facial emotions. SVM is a supervised learning technique that is used to perform classification and regression problems."
   ]
  },
  {
   "cell_type": "code",
   "execution_count": 1,
   "id": "6614256d",
   "metadata": {},
   "outputs": [],
   "source": [
    "from sklearn.svm import SVC\n",
    "from sklearn.model_selection import GridSearchCV\n",
    "from sklearn.metrics import accuracy_score\n",
    "import numpy as np\n",
    "import pandas as pd"
   ]
  },
  {
   "cell_type": "code",
   "execution_count": 2,
   "id": "d5d44f7f",
   "metadata": {},
   "outputs": [],
   "source": [
    "data = pd.read_csv('fer2013.csv')\n"
   ]
  },
  {
   "cell_type": "code",
   "execution_count": 3,
   "id": "3a0ff3b9",
   "metadata": {},
   "outputs": [],
   "source": [
    "train_data = data[data.Usage == 'Training']\n",
    "test_data = data[data.Usage == 'PrivateTest']\n",
    "val_data = data[data.Usage == 'PublicTest']\n"
   ]
  },
  {
   "cell_type": "code",
   "execution_count": 4,
   "id": "4eb5f9e9",
   "metadata": {},
   "outputs": [],
   "source": [
    "def preprocess(data):\n",
    "    X = []\n",
    "    y = []\n",
    "    for i in range(len(data)):\n",
    "        img = data.iloc[i]['pixels'].split(' ')\n",
    "        img = np.array(img, dtype='float32')\n",
    "        img = img / 255.0\n",
    "        X.append(img)\n",
    "        y.append(data.iloc[i]['emotion'])\n",
    "    X = np.array(X)\n",
    "    y = np.array(y)\n",
    "    return X, y\n"
   ]
  },
  {
   "cell_type": "code",
   "execution_count": 5,
   "id": "59ab6db6",
   "metadata": {},
   "outputs": [],
   "source": [
    "X_train, y_train = preprocess(train_data)\n",
    "X_val, y_val = preprocess(val_data)\n",
    "X_test, y_test = preprocess(test_data)\n"
   ]
  },
  {
   "cell_type": "code",
   "execution_count": 6,
   "id": "74c739ca",
   "metadata": {},
   "outputs": [],
   "source": [
    "X_train = X_train.reshape(X_train.shape[0], -1)\n",
    "X_val = X_val.reshape(X_val.shape[0], -1)\n",
    "X_test = X_test.reshape(X_test.shape[0], -1)\n"
   ]
  },
  {
   "cell_type": "markdown",
   "id": "9191fdd6",
   "metadata": {},
   "source": [
    "### SVM\n",
    "\n",
    "The model is initiated using the SVC class from the sklearn.svm package to initialize the SVM classifier.\n",
    "\n",
    "Parameters are selected using the gridsearch on lesser sample size dataset.\n",
    "\n",
    "Key Parameters for SVM are Kernel, C."
   ]
  },
  {
   "cell_type": "code",
   "execution_count": 10,
   "id": "5a8f9bbf",
   "metadata": {},
   "outputs": [
    {
     "name": "stdout",
     "output_type": "stream",
     "text": [
      "[LibSVM]"
     ]
    },
    {
     "data": {
      "text/plain": [
       "SVC(C=1, random_state=42, verbose=True)"
      ]
     },
     "execution_count": 10,
     "metadata": {},
     "output_type": "execute_result"
    }
   ],
   "source": [
    "from sklearn.svm import SVC\n",
    "\n",
    "svm = SVC(C=1, kernel='rbf', random_state=42, verbose=True)\n",
    "svm.fit(X_train, y_train)\n"
   ]
  },
  {
   "cell_type": "code",
   "execution_count": 11,
   "id": "ff312a71",
   "metadata": {},
   "outputs": [
    {
     "name": "stdout",
     "output_type": "stream",
     "text": [
      "Validation accuracy: 0.44664251880746725\n"
     ]
    }
   ],
   "source": [
    "y_val_pred = svm.predict(X_val)\n",
    "val_acc = accuracy_score(y_val, y_val_pred)\n",
    "print(\"Validation accuracy:\", val_acc)"
   ]
  },
  {
   "cell_type": "code",
   "execution_count": 12,
   "id": "e9f8a2f9",
   "metadata": {},
   "outputs": [
    {
     "name": "stdout",
     "output_type": "stream",
     "text": [
      "Test accuracy: 0.4471997770966843\n"
     ]
    }
   ],
   "source": [
    "y_test_pred = svm.predict(X_test)\n",
    "test_acc = accuracy_score(y_test, y_test_pred)\n",
    "print(\"Test accuracy:\", test_acc)"
   ]
  },
  {
   "cell_type": "code",
   "execution_count": 14,
   "id": "caa2ebe5",
   "metadata": {},
   "outputs": [
    {
     "name": "stdout",
     "output_type": "stream",
     "text": [
      "Accuracy: 0.4471997770966843\n",
      "              precision    recall  f1-score   support\n",
      "\n",
      "           0       0.43      0.22      0.29       491\n",
      "           1       1.00      0.05      0.10        55\n",
      "           2       0.39      0.23      0.29       528\n",
      "           3       0.48      0.72      0.58       879\n",
      "           4       0.35      0.41      0.38       594\n",
      "           5       0.65      0.53      0.58       416\n",
      "           6       0.41      0.44      0.42       626\n",
      "\n",
      "    accuracy                           0.45      3589\n",
      "   macro avg       0.53      0.37      0.38      3589\n",
      "weighted avg       0.45      0.45      0.43      3589\n",
      "\n"
     ]
    }
   ],
   "source": [
    "from sklearn.metrics import accuracy_score, classification_report\n",
    "print(\"Accuracy:\", accuracy_score(y_test, y_test_pred))\n",
    "print(classification_report(y_test, y_test_pred))"
   ]
  },
  {
   "cell_type": "markdown",
   "id": "83554fb3",
   "metadata": {},
   "source": [
    "On the test data, the SVM classifier had an accuracy of 44.7%. Each emotion class had a different precision, recall, and F1-score. Disgust (1) and Surprise (5) exhibited worse precision and recall, indicating difficulty in accurately predicting these emotions. Emotion classes such as Happy (3) exhibited higher precision and recall, indicating that those emotions performed better. With a weighted average F1-score of 0.43, the model performed relatively poorly in reliably classifying emotions. To improve accuracy and overall performance in recognizing facial emotions, adjusting the SVM parameters or researching alternative models might be used.\n"
   ]
  },
  {
   "cell_type": "code",
   "execution_count": 15,
   "id": "99660550",
   "metadata": {},
   "outputs": [
    {
     "data": {
      "text/plain": [
       "['svm_model.sav']"
      ]
     },
     "execution_count": 15,
     "metadata": {},
     "output_type": "execute_result"
    }
   ],
   "source": [
    "import joblib\n",
    "\n",
    "joblib.dump(svm, \"svm_model.sav\")\n"
   ]
  }
 ],
 "metadata": {
  "kernelspec": {
   "display_name": "Python 3 (ipykernel)",
   "language": "python",
   "name": "python3"
  },
  "language_info": {
   "codemirror_mode": {
    "name": "ipython",
    "version": 3
   },
   "file_extension": ".py",
   "mimetype": "text/x-python",
   "name": "python",
   "nbconvert_exporter": "python",
   "pygments_lexer": "ipython3",
   "version": "3.9.12"
  }
 },
 "nbformat": 4,
 "nbformat_minor": 5
}
