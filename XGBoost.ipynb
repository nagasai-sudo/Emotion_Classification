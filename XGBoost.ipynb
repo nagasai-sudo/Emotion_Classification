{
 "cells": [
  {
   "cell_type": "markdown",
   "id": "a2aad471",
   "metadata": {},
   "source": [
    "# XGBoost Model \n",
    "\n",
    "This model is an XGBoost Classifier that has been trained to recognize face emotions. It makes use of the XGBoost framework to boost gradients and classify facial expressions into several emotion groups.\n",
    "\n",
    "Model Training:\n",
    "1. To Initialize,number of classes, maximum depth, learning rate, number of estimators, and number of tasks are provided.\n",
    "2. To check performance on the validation set, the model is fit to the training features and labels using early stopping rounds and a verbose set.\n",
    "\n"
   ]
  },
  {
   "cell_type": "code",
   "execution_count": 1,
   "id": "54623cf5",
   "metadata": {},
   "outputs": [],
   "source": [
    "import pandas as pd\n",
    "import numpy as np\n",
    "from sklearn.model_selection import train_test_split\n",
    "import xgboost as xgb\n",
    "from sklearn.metrics import accuracy_score, classification_report"
   ]
  },
  {
   "cell_type": "code",
   "execution_count": 2,
   "id": "633eaad8",
   "metadata": {},
   "outputs": [],
   "source": [
    "data = pd.read_csv('fer2013.csv')\n"
   ]
  },
  {
   "cell_type": "code",
   "execution_count": 3,
   "id": "cb8f2d36",
   "metadata": {},
   "outputs": [],
   "source": [
    "# Spliting into train, val, test sets\n",
    "train_data = data[data.Usage == 'Training']\n",
    "test_data = data[data.Usage == 'PrivateTest']\n",
    "val_data = data[data.Usage == 'PublicTest']"
   ]
  },
  {
   "cell_type": "code",
   "execution_count": 4,
   "id": "8b141bef",
   "metadata": {},
   "outputs": [],
   "source": [
    "# Preprocessing images\n",
    "def preprocess(data):\n",
    "    X = []\n",
    "    y = []\n",
    "    for i in range(len(data)):\n",
    "        img = data.iloc[i]['pixels'].split(' ')\n",
    "        img = np.array(img, dtype='float32')\n",
    "        img = img / 255.0\n",
    "        X.append(img)\n",
    "        y.append(data.iloc[i]['emotion'])\n",
    "    X = np.array(X)\n",
    "    y = np.array(y)\n",
    "    return X, y\n",
    "\n",
    "X_train, y_train = preprocess(train_data)\n",
    "X_val, y_val = preprocess(val_data)\n",
    "X_test, y_test = preprocess(test_data)"
   ]
  },
  {
   "cell_type": "code",
   "execution_count": 5,
   "id": "39ac4954",
   "metadata": {},
   "outputs": [],
   "source": [
    "X_train = X_train.reshape(X_train.shape[0], -1)\n",
    "X_val = X_val.reshape(X_val.shape[0], -1)\n",
    "X_test = X_test.reshape(X_test.shape[0], -1)\n",
    "\n"
   ]
  },
  {
   "cell_type": "markdown",
   "id": "b3b55784",
   "metadata": {},
   "source": [
    "# Without Regularization\n",
    "\n",
    "Parameters:\n",
    "- objective (string): The objective function to use for multi-class classification. In this case, \"multi:softmax\" is used.\n",
    "- num_classes (int): The number of classes (emotion categories) in the classification task is given at 7."
   ]
  },
  {
   "cell_type": "code",
   "execution_count": 6,
   "id": "72355d41",
   "metadata": {},
   "outputs": [],
   "source": [
    "clf = xgb.XGBClassifier(objective=\"multi:softmax\", num_classes=7, max_depth=5, learning_rate=0.1, n_estimators=200, n_jobs=-1)\n"
   ]
  },
  {
   "cell_type": "code",
   "execution_count": 7,
   "id": "2f89c693",
   "metadata": {},
   "outputs": [
    {
     "name": "stderr",
     "output_type": "stream",
     "text": [
      "C:\\Users\\nagas\\anaconda3\\lib\\site-packages\\xgboost\\sklearn.py:835: UserWarning: `early_stopping_rounds` in `fit` method is deprecated for better compatibility with scikit-learn, use `early_stopping_rounds` in constructor or`set_params` instead.\n",
      "  warnings.warn(\n"
     ]
    },
    {
     "name": "stdout",
     "output_type": "stream",
     "text": [
      "[22:22:03] WARNING: C:\\buildkite-agent\\builds\\buildkite-windows-cpu-autoscaling-group-i-07593ffd91cd9da33-1\\xgboost\\xgboost-ci-windows\\src\\learner.cc:767: \n",
      "Parameters: { \"num_classes\" } are not used.\n",
      "\n",
      "[0]\tvalidation_0-mlogloss:1.91417\n",
      "[1]\tvalidation_0-mlogloss:1.88606\n",
      "[2]\tvalidation_0-mlogloss:1.86054\n",
      "[3]\tvalidation_0-mlogloss:1.83875\n",
      "[4]\tvalidation_0-mlogloss:1.81885\n",
      "[5]\tvalidation_0-mlogloss:1.80047\n",
      "[6]\tvalidation_0-mlogloss:1.78374\n",
      "[7]\tvalidation_0-mlogloss:1.76864\n",
      "[8]\tvalidation_0-mlogloss:1.75446\n",
      "[9]\tvalidation_0-mlogloss:1.74075\n",
      "[10]\tvalidation_0-mlogloss:1.72840\n",
      "[11]\tvalidation_0-mlogloss:1.71564\n",
      "[12]\tvalidation_0-mlogloss:1.70517\n",
      "[13]\tvalidation_0-mlogloss:1.69514\n",
      "[14]\tvalidation_0-mlogloss:1.68571\n",
      "[15]\tvalidation_0-mlogloss:1.67664\n",
      "[16]\tvalidation_0-mlogloss:1.66766\n",
      "[17]\tvalidation_0-mlogloss:1.65940\n",
      "[18]\tvalidation_0-mlogloss:1.65085\n",
      "[19]\tvalidation_0-mlogloss:1.64392\n",
      "[20]\tvalidation_0-mlogloss:1.63728\n",
      "[21]\tvalidation_0-mlogloss:1.63039\n",
      "[22]\tvalidation_0-mlogloss:1.62460\n",
      "[23]\tvalidation_0-mlogloss:1.61938\n",
      "[24]\tvalidation_0-mlogloss:1.61392\n",
      "[25]\tvalidation_0-mlogloss:1.60903\n",
      "[26]\tvalidation_0-mlogloss:1.60412\n",
      "[27]\tvalidation_0-mlogloss:1.59920\n",
      "[28]\tvalidation_0-mlogloss:1.59499\n",
      "[29]\tvalidation_0-mlogloss:1.59119\n",
      "[30]\tvalidation_0-mlogloss:1.58655\n",
      "[31]\tvalidation_0-mlogloss:1.58207\n",
      "[32]\tvalidation_0-mlogloss:1.57841\n",
      "[33]\tvalidation_0-mlogloss:1.57497\n",
      "[34]\tvalidation_0-mlogloss:1.57071\n",
      "[35]\tvalidation_0-mlogloss:1.56728\n",
      "[36]\tvalidation_0-mlogloss:1.56408\n",
      "[37]\tvalidation_0-mlogloss:1.56113\n",
      "[38]\tvalidation_0-mlogloss:1.55815\n",
      "[39]\tvalidation_0-mlogloss:1.55526\n",
      "[40]\tvalidation_0-mlogloss:1.55265\n",
      "[41]\tvalidation_0-mlogloss:1.55028\n",
      "[42]\tvalidation_0-mlogloss:1.54773\n",
      "[43]\tvalidation_0-mlogloss:1.54527\n",
      "[44]\tvalidation_0-mlogloss:1.54268\n",
      "[45]\tvalidation_0-mlogloss:1.53983\n",
      "[46]\tvalidation_0-mlogloss:1.53804\n",
      "[47]\tvalidation_0-mlogloss:1.53558\n",
      "[48]\tvalidation_0-mlogloss:1.53368\n",
      "[49]\tvalidation_0-mlogloss:1.53178\n",
      "[50]\tvalidation_0-mlogloss:1.52954\n",
      "[51]\tvalidation_0-mlogloss:1.52783\n",
      "[52]\tvalidation_0-mlogloss:1.52602\n",
      "[53]\tvalidation_0-mlogloss:1.52380\n",
      "[54]\tvalidation_0-mlogloss:1.52128\n",
      "[55]\tvalidation_0-mlogloss:1.51936\n",
      "[56]\tvalidation_0-mlogloss:1.51767\n",
      "[57]\tvalidation_0-mlogloss:1.51600\n",
      "[58]\tvalidation_0-mlogloss:1.51420\n",
      "[59]\tvalidation_0-mlogloss:1.51241\n",
      "[60]\tvalidation_0-mlogloss:1.51093\n",
      "[61]\tvalidation_0-mlogloss:1.50954\n",
      "[62]\tvalidation_0-mlogloss:1.50834\n",
      "[63]\tvalidation_0-mlogloss:1.50682\n",
      "[64]\tvalidation_0-mlogloss:1.50590\n",
      "[65]\tvalidation_0-mlogloss:1.50448\n",
      "[66]\tvalidation_0-mlogloss:1.50359\n",
      "[67]\tvalidation_0-mlogloss:1.50201\n",
      "[68]\tvalidation_0-mlogloss:1.50121\n",
      "[69]\tvalidation_0-mlogloss:1.49955\n",
      "[70]\tvalidation_0-mlogloss:1.49836\n",
      "[71]\tvalidation_0-mlogloss:1.49703\n",
      "[72]\tvalidation_0-mlogloss:1.49586\n",
      "[73]\tvalidation_0-mlogloss:1.49462\n",
      "[74]\tvalidation_0-mlogloss:1.49352\n",
      "[75]\tvalidation_0-mlogloss:1.49294\n",
      "[76]\tvalidation_0-mlogloss:1.49195\n",
      "[77]\tvalidation_0-mlogloss:1.49080\n",
      "[78]\tvalidation_0-mlogloss:1.48937\n",
      "[79]\tvalidation_0-mlogloss:1.48842\n",
      "[80]\tvalidation_0-mlogloss:1.48777\n",
      "[81]\tvalidation_0-mlogloss:1.48652\n",
      "[82]\tvalidation_0-mlogloss:1.48555\n",
      "[83]\tvalidation_0-mlogloss:1.48459\n",
      "[84]\tvalidation_0-mlogloss:1.48365\n",
      "[85]\tvalidation_0-mlogloss:1.48264\n",
      "[86]\tvalidation_0-mlogloss:1.48160\n",
      "[87]\tvalidation_0-mlogloss:1.48053\n",
      "[88]\tvalidation_0-mlogloss:1.47969\n",
      "[89]\tvalidation_0-mlogloss:1.47877\n",
      "[90]\tvalidation_0-mlogloss:1.47814\n",
      "[91]\tvalidation_0-mlogloss:1.47716\n",
      "[92]\tvalidation_0-mlogloss:1.47636\n",
      "[93]\tvalidation_0-mlogloss:1.47544\n",
      "[94]\tvalidation_0-mlogloss:1.47448\n",
      "[95]\tvalidation_0-mlogloss:1.47346\n",
      "[96]\tvalidation_0-mlogloss:1.47232\n",
      "[97]\tvalidation_0-mlogloss:1.47146\n",
      "[98]\tvalidation_0-mlogloss:1.47042\n",
      "[99]\tvalidation_0-mlogloss:1.46973\n",
      "[100]\tvalidation_0-mlogloss:1.46918\n",
      "[101]\tvalidation_0-mlogloss:1.46852\n",
      "[102]\tvalidation_0-mlogloss:1.46721\n",
      "[103]\tvalidation_0-mlogloss:1.46656\n",
      "[104]\tvalidation_0-mlogloss:1.46568\n",
      "[105]\tvalidation_0-mlogloss:1.46466\n",
      "[106]\tvalidation_0-mlogloss:1.46368\n",
      "[107]\tvalidation_0-mlogloss:1.46283\n",
      "[108]\tvalidation_0-mlogloss:1.46248\n",
      "[109]\tvalidation_0-mlogloss:1.46173\n",
      "[110]\tvalidation_0-mlogloss:1.46072\n",
      "[111]\tvalidation_0-mlogloss:1.45996\n",
      "[112]\tvalidation_0-mlogloss:1.45887\n",
      "[113]\tvalidation_0-mlogloss:1.45820\n",
      "[114]\tvalidation_0-mlogloss:1.45708\n",
      "[115]\tvalidation_0-mlogloss:1.45627\n",
      "[116]\tvalidation_0-mlogloss:1.45564\n",
      "[117]\tvalidation_0-mlogloss:1.45465\n",
      "[118]\tvalidation_0-mlogloss:1.45442\n",
      "[119]\tvalidation_0-mlogloss:1.45365\n",
      "[120]\tvalidation_0-mlogloss:1.45312\n",
      "[121]\tvalidation_0-mlogloss:1.45253\n",
      "[122]\tvalidation_0-mlogloss:1.45239\n",
      "[123]\tvalidation_0-mlogloss:1.45162\n",
      "[124]\tvalidation_0-mlogloss:1.45114\n",
      "[125]\tvalidation_0-mlogloss:1.45026\n",
      "[126]\tvalidation_0-mlogloss:1.44972\n",
      "[127]\tvalidation_0-mlogloss:1.44929\n",
      "[128]\tvalidation_0-mlogloss:1.44843\n",
      "[129]\tvalidation_0-mlogloss:1.44748\n",
      "[130]\tvalidation_0-mlogloss:1.44671\n",
      "[131]\tvalidation_0-mlogloss:1.44599\n",
      "[132]\tvalidation_0-mlogloss:1.44536\n",
      "[133]\tvalidation_0-mlogloss:1.44518\n",
      "[134]\tvalidation_0-mlogloss:1.44477\n",
      "[135]\tvalidation_0-mlogloss:1.44386\n",
      "[136]\tvalidation_0-mlogloss:1.44366\n",
      "[137]\tvalidation_0-mlogloss:1.44303\n",
      "[138]\tvalidation_0-mlogloss:1.44251\n",
      "[139]\tvalidation_0-mlogloss:1.44189\n",
      "[140]\tvalidation_0-mlogloss:1.44108\n",
      "[141]\tvalidation_0-mlogloss:1.44050\n",
      "[142]\tvalidation_0-mlogloss:1.44012\n",
      "[143]\tvalidation_0-mlogloss:1.43976\n",
      "[144]\tvalidation_0-mlogloss:1.43905\n",
      "[145]\tvalidation_0-mlogloss:1.43829\n",
      "[146]\tvalidation_0-mlogloss:1.43749\n",
      "[147]\tvalidation_0-mlogloss:1.43653\n",
      "[148]\tvalidation_0-mlogloss:1.43598\n",
      "[149]\tvalidation_0-mlogloss:1.43567\n",
      "[150]\tvalidation_0-mlogloss:1.43573\n",
      "[151]\tvalidation_0-mlogloss:1.43487\n",
      "[152]\tvalidation_0-mlogloss:1.43391\n",
      "[153]\tvalidation_0-mlogloss:1.43326\n",
      "[154]\tvalidation_0-mlogloss:1.43317\n",
      "[155]\tvalidation_0-mlogloss:1.43251\n",
      "[156]\tvalidation_0-mlogloss:1.43232\n",
      "[157]\tvalidation_0-mlogloss:1.43199\n",
      "[158]\tvalidation_0-mlogloss:1.43141\n",
      "[159]\tvalidation_0-mlogloss:1.43106\n",
      "[160]\tvalidation_0-mlogloss:1.43072\n",
      "[161]\tvalidation_0-mlogloss:1.43034\n",
      "[162]\tvalidation_0-mlogloss:1.43004\n",
      "[163]\tvalidation_0-mlogloss:1.42940\n",
      "[164]\tvalidation_0-mlogloss:1.42903\n",
      "[165]\tvalidation_0-mlogloss:1.42842\n",
      "[166]\tvalidation_0-mlogloss:1.42797\n",
      "[167]\tvalidation_0-mlogloss:1.42741\n",
      "[168]\tvalidation_0-mlogloss:1.42670\n",
      "[169]\tvalidation_0-mlogloss:1.42655\n",
      "[170]\tvalidation_0-mlogloss:1.42613\n",
      "[171]\tvalidation_0-mlogloss:1.42541\n",
      "[172]\tvalidation_0-mlogloss:1.42490\n",
      "[173]\tvalidation_0-mlogloss:1.42455\n",
      "[174]\tvalidation_0-mlogloss:1.42430\n",
      "[175]\tvalidation_0-mlogloss:1.42386\n",
      "[176]\tvalidation_0-mlogloss:1.42327\n",
      "[177]\tvalidation_0-mlogloss:1.42288\n",
      "[178]\tvalidation_0-mlogloss:1.42238\n",
      "[179]\tvalidation_0-mlogloss:1.42206\n",
      "[180]\tvalidation_0-mlogloss:1.42203\n",
      "[181]\tvalidation_0-mlogloss:1.42166\n",
      "[182]\tvalidation_0-mlogloss:1.42105\n",
      "[183]\tvalidation_0-mlogloss:1.42074\n",
      "[184]\tvalidation_0-mlogloss:1.41984\n",
      "[185]\tvalidation_0-mlogloss:1.41947\n",
      "[186]\tvalidation_0-mlogloss:1.41897\n",
      "[187]\tvalidation_0-mlogloss:1.41875\n",
      "[188]\tvalidation_0-mlogloss:1.41841\n",
      "[189]\tvalidation_0-mlogloss:1.41808\n",
      "[190]\tvalidation_0-mlogloss:1.41754\n",
      "[191]\tvalidation_0-mlogloss:1.41719\n",
      "[192]\tvalidation_0-mlogloss:1.41691\n",
      "[193]\tvalidation_0-mlogloss:1.41664\n",
      "[194]\tvalidation_0-mlogloss:1.41582\n",
      "[195]\tvalidation_0-mlogloss:1.41544\n",
      "[196]\tvalidation_0-mlogloss:1.41510\n",
      "[197]\tvalidation_0-mlogloss:1.41488\n",
      "[198]\tvalidation_0-mlogloss:1.41496\n",
      "[199]\tvalidation_0-mlogloss:1.41484\n"
     ]
    },
    {
     "data": {
      "text/plain": [
       "XGBClassifier(base_score=None, booster=None, callbacks=None,\n",
       "              colsample_bylevel=None, colsample_bynode=None,\n",
       "              colsample_bytree=None, early_stopping_rounds=None,\n",
       "              enable_categorical=False, eval_metric=None, feature_types=None,\n",
       "              gamma=None, gpu_id=None, grow_policy=None, importance_type=None,\n",
       "              interaction_constraints=None, learning_rate=0.1, max_bin=None,\n",
       "              max_cat_threshold=None, max_cat_to_onehot=None,\n",
       "              max_delta_step=None, max_depth=5, max_leaves=None,\n",
       "              min_child_weight=None, missing=nan, monotone_constraints=None,\n",
       "              n_estimators=200, n_jobs=-1, num_classes=7,\n",
       "              num_parallel_tree=None, objective='multi:softmax', ...)"
      ]
     },
     "execution_count": 7,
     "metadata": {},
     "output_type": "execute_result"
    }
   ],
   "source": [
    "clf.fit(X_train, y_train, eval_set=[(X_val, y_val)], early_stopping_rounds=10, verbose=1)\n"
   ]
  },
  {
   "cell_type": "code",
   "execution_count": 8,
   "id": "93f74317",
   "metadata": {},
   "outputs": [],
   "source": [
    "y_pred = clf.predict(X_test)"
   ]
  },
  {
   "cell_type": "code",
   "execution_count": 13,
   "id": "3d30385e",
   "metadata": {},
   "outputs": [],
   "source": [
    "y_train_pred = clf.predict(X_train)"
   ]
  },
  {
   "cell_type": "code",
   "execution_count": 14,
   "id": "67b61c27",
   "metadata": {},
   "outputs": [
    {
     "name": "stdout",
     "output_type": "stream",
     "text": [
      "Training Accuracy: 0.8308892681737434\n"
     ]
    }
   ],
   "source": [
    "accuracy = accuracy_score(y_train, y_train_pred)\n",
    "print(\"Training Accuracy:\", accuracy)"
   ]
  },
  {
   "cell_type": "code",
   "execution_count": 15,
   "id": "ca52edd2",
   "metadata": {},
   "outputs": [
    {
     "name": "stdout",
     "output_type": "stream",
     "text": [
      "Training Classification\n",
      "              precision    recall  f1-score   support\n",
      "\n",
      "       Angry       0.94      0.73      0.82      3995\n",
      "     Disgust       1.00      0.93      0.96       436\n",
      "        Fear       0.92      0.73      0.82      4097\n",
      "       Happy       0.75      0.94      0.83      7215\n",
      "         Sad       0.84      0.80      0.82      4830\n",
      "    Surprise       0.92      0.85      0.89      3171\n",
      "     Neutral       0.78      0.84      0.81      4965\n",
      "\n",
      "    accuracy                           0.83     28709\n",
      "   macro avg       0.88      0.83      0.85     28709\n",
      "weighted avg       0.84      0.83      0.83     28709\n",
      "\n"
     ]
    }
   ],
   "source": [
    "from sklearn.metrics import classification_report\n",
    "\n",
    "target_names = ['Angry', 'Disgust', 'Fear', 'Happy', 'Sad', 'Surprise', 'Neutral']\n",
    "print('Training Classification')\n",
    "print(classification_report(y_train, y_train_pred, target_names=target_names, labels=[0, 1, 2, 3, 4, 5, 6]))\n"
   ]
  },
  {
   "cell_type": "code",
   "execution_count": 9,
   "id": "b7f08362",
   "metadata": {},
   "outputs": [
    {
     "name": "stdout",
     "output_type": "stream",
     "text": [
      "Accuracy: 0.4725550292560602\n",
      "              precision    recall  f1-score   support\n",
      "\n",
      "           0       0.44      0.26      0.33       491\n",
      "           1       1.00      0.27      0.43        55\n",
      "           2       0.40      0.25      0.31       528\n",
      "           3       0.52      0.74      0.62       879\n",
      "           4       0.36      0.38      0.37       594\n",
      "           5       0.64      0.60      0.62       416\n",
      "           6       0.43      0.46      0.44       626\n",
      "\n",
      "    accuracy                           0.47      3589\n",
      "   macro avg       0.54      0.42      0.44      3589\n",
      "weighted avg       0.47      0.47      0.46      3589\n",
      "\n"
     ]
    }
   ],
   "source": [
    "print(\"Accuracy:\", accuracy_score(y_test, y_pred))\n",
    "print(classification_report(y_test, y_pred))"
   ]
  },
  {
   "cell_type": "markdown",
   "id": "4082f884",
   "metadata": {},
   "source": [
    "Based on this test classification, we can say that the model predicts emotions 3 (Happy), 5 (Surprise), and 6 (Neutral) reasonably well, but struggles with emotions 0 (Angry), 1 (Disgust), 2 (Fear), and 4 (Sad). More advancements can be made by modifying the model's parameters, doing feature engineering, or employing more complex methodologies. We are trying regularization in next steps."
   ]
  },
  {
   "cell_type": "markdown",
   "id": "2ed72a4b",
   "metadata": {},
   "source": [
    "# Regularization"
   ]
  },
  {
   "cell_type": "code",
   "execution_count": 16,
   "id": "55faa869",
   "metadata": {},
   "outputs": [],
   "source": [
    "clf = xgb.XGBClassifier(objective=\"multi:softmax\", num_classes=7, max_depth=5, learning_rate=0.1, n_estimators=200, n_jobs=-1, reg_alpha=0.1, reg_lambda=0.1)\n"
   ]
  },
  {
   "cell_type": "code",
   "execution_count": 17,
   "id": "30ed14f5",
   "metadata": {},
   "outputs": [
    {
     "name": "stderr",
     "output_type": "stream",
     "text": [
      "C:\\Users\\nagas\\anaconda3\\lib\\site-packages\\xgboost\\sklearn.py:835: UserWarning: `early_stopping_rounds` in `fit` method is deprecated for better compatibility with scikit-learn, use `early_stopping_rounds` in constructor or`set_params` instead.\n",
      "  warnings.warn(\n"
     ]
    },
    {
     "name": "stdout",
     "output_type": "stream",
     "text": [
      "[18:18:34] WARNING: C:\\buildkite-agent\\builds\\buildkite-windows-cpu-autoscaling-group-i-07593ffd91cd9da33-1\\xgboost\\xgboost-ci-windows\\src\\learner.cc:767: \n",
      "Parameters: { \"num_classes\" } are not used.\n",
      "\n",
      "[0]\tvalidation_0-mlogloss:1.91463\n",
      "[1]\tvalidation_0-mlogloss:1.88627\n",
      "[2]\tvalidation_0-mlogloss:1.86142\n",
      "[3]\tvalidation_0-mlogloss:1.83890\n",
      "[4]\tvalidation_0-mlogloss:1.81963\n",
      "[5]\tvalidation_0-mlogloss:1.80137\n",
      "[6]\tvalidation_0-mlogloss:1.78458\n",
      "[7]\tvalidation_0-mlogloss:1.76938\n",
      "[8]\tvalidation_0-mlogloss:1.75485\n",
      "[9]\tvalidation_0-mlogloss:1.74153\n",
      "[10]\tvalidation_0-mlogloss:1.72834\n",
      "[11]\tvalidation_0-mlogloss:1.71690\n",
      "[12]\tvalidation_0-mlogloss:1.70590\n",
      "[13]\tvalidation_0-mlogloss:1.69620\n",
      "[14]\tvalidation_0-mlogloss:1.68694\n",
      "[15]\tvalidation_0-mlogloss:1.67744\n",
      "[16]\tvalidation_0-mlogloss:1.66938\n",
      "[17]\tvalidation_0-mlogloss:1.66157\n",
      "[18]\tvalidation_0-mlogloss:1.65432\n",
      "[19]\tvalidation_0-mlogloss:1.64702\n",
      "[20]\tvalidation_0-mlogloss:1.64090\n",
      "[21]\tvalidation_0-mlogloss:1.63468\n",
      "[22]\tvalidation_0-mlogloss:1.62796\n",
      "[23]\tvalidation_0-mlogloss:1.62234\n",
      "[24]\tvalidation_0-mlogloss:1.61718\n",
      "[25]\tvalidation_0-mlogloss:1.61265\n",
      "[26]\tvalidation_0-mlogloss:1.60802\n",
      "[27]\tvalidation_0-mlogloss:1.60393\n",
      "[28]\tvalidation_0-mlogloss:1.59904\n",
      "[29]\tvalidation_0-mlogloss:1.59470\n",
      "[30]\tvalidation_0-mlogloss:1.59082\n",
      "[31]\tvalidation_0-mlogloss:1.58678\n",
      "[32]\tvalidation_0-mlogloss:1.58267\n",
      "[33]\tvalidation_0-mlogloss:1.57888\n",
      "[34]\tvalidation_0-mlogloss:1.57551\n",
      "[35]\tvalidation_0-mlogloss:1.57207\n",
      "[36]\tvalidation_0-mlogloss:1.56879\n",
      "[37]\tvalidation_0-mlogloss:1.56581\n",
      "[38]\tvalidation_0-mlogloss:1.56248\n",
      "[39]\tvalidation_0-mlogloss:1.55927\n",
      "[40]\tvalidation_0-mlogloss:1.55637\n",
      "[41]\tvalidation_0-mlogloss:1.55367\n",
      "[42]\tvalidation_0-mlogloss:1.55067\n",
      "[43]\tvalidation_0-mlogloss:1.54866\n",
      "[44]\tvalidation_0-mlogloss:1.54648\n",
      "[45]\tvalidation_0-mlogloss:1.54395\n",
      "[46]\tvalidation_0-mlogloss:1.54156\n",
      "[47]\tvalidation_0-mlogloss:1.53911\n",
      "[48]\tvalidation_0-mlogloss:1.53657\n",
      "[49]\tvalidation_0-mlogloss:1.53499\n",
      "[50]\tvalidation_0-mlogloss:1.53282\n",
      "[51]\tvalidation_0-mlogloss:1.53095\n",
      "[52]\tvalidation_0-mlogloss:1.52889\n",
      "[53]\tvalidation_0-mlogloss:1.52708\n",
      "[54]\tvalidation_0-mlogloss:1.52540\n",
      "[55]\tvalidation_0-mlogloss:1.52349\n",
      "[56]\tvalidation_0-mlogloss:1.52230\n",
      "[57]\tvalidation_0-mlogloss:1.52134\n",
      "[58]\tvalidation_0-mlogloss:1.51929\n",
      "[59]\tvalidation_0-mlogloss:1.51756\n",
      "[60]\tvalidation_0-mlogloss:1.51533\n",
      "[61]\tvalidation_0-mlogloss:1.51375\n",
      "[62]\tvalidation_0-mlogloss:1.51288\n",
      "[63]\tvalidation_0-mlogloss:1.51093\n",
      "[64]\tvalidation_0-mlogloss:1.50912\n",
      "[65]\tvalidation_0-mlogloss:1.50780\n",
      "[66]\tvalidation_0-mlogloss:1.50629\n",
      "[67]\tvalidation_0-mlogloss:1.50443\n",
      "[68]\tvalidation_0-mlogloss:1.50355\n",
      "[69]\tvalidation_0-mlogloss:1.50285\n",
      "[70]\tvalidation_0-mlogloss:1.50136\n",
      "[71]\tvalidation_0-mlogloss:1.50039\n",
      "[72]\tvalidation_0-mlogloss:1.49917\n",
      "[73]\tvalidation_0-mlogloss:1.49818\n",
      "[74]\tvalidation_0-mlogloss:1.49734\n",
      "[75]\tvalidation_0-mlogloss:1.49648\n",
      "[76]\tvalidation_0-mlogloss:1.49534\n",
      "[77]\tvalidation_0-mlogloss:1.49447\n",
      "[78]\tvalidation_0-mlogloss:1.49327\n",
      "[79]\tvalidation_0-mlogloss:1.49168\n",
      "[80]\tvalidation_0-mlogloss:1.49049\n",
      "[81]\tvalidation_0-mlogloss:1.48879\n",
      "[82]\tvalidation_0-mlogloss:1.48808\n",
      "[83]\tvalidation_0-mlogloss:1.48718\n",
      "[84]\tvalidation_0-mlogloss:1.48659\n",
      "[85]\tvalidation_0-mlogloss:1.48566\n",
      "[86]\tvalidation_0-mlogloss:1.48494\n",
      "[87]\tvalidation_0-mlogloss:1.48416\n",
      "[88]\tvalidation_0-mlogloss:1.48338\n",
      "[89]\tvalidation_0-mlogloss:1.48274\n",
      "[90]\tvalidation_0-mlogloss:1.48174\n",
      "[91]\tvalidation_0-mlogloss:1.48043\n",
      "[92]\tvalidation_0-mlogloss:1.47945\n",
      "[93]\tvalidation_0-mlogloss:1.47862\n",
      "[94]\tvalidation_0-mlogloss:1.47764\n",
      "[95]\tvalidation_0-mlogloss:1.47613\n",
      "[96]\tvalidation_0-mlogloss:1.47557\n",
      "[97]\tvalidation_0-mlogloss:1.47424\n",
      "[98]\tvalidation_0-mlogloss:1.47316\n",
      "[99]\tvalidation_0-mlogloss:1.47255\n",
      "[100]\tvalidation_0-mlogloss:1.47198\n",
      "[101]\tvalidation_0-mlogloss:1.47140\n",
      "[102]\tvalidation_0-mlogloss:1.47056\n",
      "[103]\tvalidation_0-mlogloss:1.46924\n",
      "[104]\tvalidation_0-mlogloss:1.46879\n",
      "[105]\tvalidation_0-mlogloss:1.46777\n",
      "[106]\tvalidation_0-mlogloss:1.46719\n",
      "[107]\tvalidation_0-mlogloss:1.46679\n",
      "[108]\tvalidation_0-mlogloss:1.46585\n",
      "[109]\tvalidation_0-mlogloss:1.46456\n",
      "[110]\tvalidation_0-mlogloss:1.46389\n",
      "[111]\tvalidation_0-mlogloss:1.46293\n",
      "[112]\tvalidation_0-mlogloss:1.46231\n",
      "[113]\tvalidation_0-mlogloss:1.46178\n",
      "[114]\tvalidation_0-mlogloss:1.46103\n",
      "[115]\tvalidation_0-mlogloss:1.46064\n",
      "[116]\tvalidation_0-mlogloss:1.45983\n",
      "[117]\tvalidation_0-mlogloss:1.45896\n",
      "[118]\tvalidation_0-mlogloss:1.45819\n",
      "[119]\tvalidation_0-mlogloss:1.45761\n",
      "[120]\tvalidation_0-mlogloss:1.45702\n",
      "[121]\tvalidation_0-mlogloss:1.45631\n",
      "[122]\tvalidation_0-mlogloss:1.45555\n",
      "[123]\tvalidation_0-mlogloss:1.45525\n",
      "[124]\tvalidation_0-mlogloss:1.45486\n",
      "[125]\tvalidation_0-mlogloss:1.45385\n",
      "[126]\tvalidation_0-mlogloss:1.45289\n",
      "[127]\tvalidation_0-mlogloss:1.45248\n",
      "[128]\tvalidation_0-mlogloss:1.45201\n",
      "[129]\tvalidation_0-mlogloss:1.45165\n",
      "[130]\tvalidation_0-mlogloss:1.45114\n",
      "[131]\tvalidation_0-mlogloss:1.45050\n",
      "[132]\tvalidation_0-mlogloss:1.44974\n",
      "[133]\tvalidation_0-mlogloss:1.44895\n",
      "[134]\tvalidation_0-mlogloss:1.44836\n",
      "[135]\tvalidation_0-mlogloss:1.44776\n",
      "[136]\tvalidation_0-mlogloss:1.44714\n",
      "[137]\tvalidation_0-mlogloss:1.44640\n",
      "[138]\tvalidation_0-mlogloss:1.44581\n",
      "[139]\tvalidation_0-mlogloss:1.44505\n",
      "[140]\tvalidation_0-mlogloss:1.44464\n",
      "[141]\tvalidation_0-mlogloss:1.44394\n",
      "[142]\tvalidation_0-mlogloss:1.44341\n",
      "[143]\tvalidation_0-mlogloss:1.44259\n",
      "[144]\tvalidation_0-mlogloss:1.44204\n",
      "[145]\tvalidation_0-mlogloss:1.44191\n",
      "[146]\tvalidation_0-mlogloss:1.44118\n",
      "[147]\tvalidation_0-mlogloss:1.44029\n",
      "[148]\tvalidation_0-mlogloss:1.43949\n",
      "[149]\tvalidation_0-mlogloss:1.43879\n",
      "[150]\tvalidation_0-mlogloss:1.43839\n",
      "[151]\tvalidation_0-mlogloss:1.43794\n",
      "[152]\tvalidation_0-mlogloss:1.43732\n",
      "[153]\tvalidation_0-mlogloss:1.43679\n",
      "[154]\tvalidation_0-mlogloss:1.43645\n",
      "[155]\tvalidation_0-mlogloss:1.43596\n",
      "[156]\tvalidation_0-mlogloss:1.43531\n",
      "[157]\tvalidation_0-mlogloss:1.43483\n",
      "[158]\tvalidation_0-mlogloss:1.43436\n",
      "[159]\tvalidation_0-mlogloss:1.43404\n",
      "[160]\tvalidation_0-mlogloss:1.43364\n",
      "[161]\tvalidation_0-mlogloss:1.43294\n",
      "[162]\tvalidation_0-mlogloss:1.43240\n",
      "[163]\tvalidation_0-mlogloss:1.43193\n",
      "[164]\tvalidation_0-mlogloss:1.43164\n",
      "[165]\tvalidation_0-mlogloss:1.43079\n",
      "[166]\tvalidation_0-mlogloss:1.43017\n",
      "[167]\tvalidation_0-mlogloss:1.42956\n",
      "[168]\tvalidation_0-mlogloss:1.42906\n",
      "[169]\tvalidation_0-mlogloss:1.42859\n",
      "[170]\tvalidation_0-mlogloss:1.42769\n",
      "[171]\tvalidation_0-mlogloss:1.42688\n",
      "[172]\tvalidation_0-mlogloss:1.42645\n",
      "[173]\tvalidation_0-mlogloss:1.42602\n",
      "[174]\tvalidation_0-mlogloss:1.42577\n",
      "[175]\tvalidation_0-mlogloss:1.42537\n",
      "[176]\tvalidation_0-mlogloss:1.42490\n",
      "[177]\tvalidation_0-mlogloss:1.42462\n",
      "[178]\tvalidation_0-mlogloss:1.42428\n",
      "[179]\tvalidation_0-mlogloss:1.42369\n",
      "[180]\tvalidation_0-mlogloss:1.42337\n",
      "[181]\tvalidation_0-mlogloss:1.42292\n",
      "[182]\tvalidation_0-mlogloss:1.42252\n",
      "[183]\tvalidation_0-mlogloss:1.42197\n",
      "[184]\tvalidation_0-mlogloss:1.42149\n",
      "[185]\tvalidation_0-mlogloss:1.42109\n",
      "[186]\tvalidation_0-mlogloss:1.42063\n",
      "[187]\tvalidation_0-mlogloss:1.41990\n",
      "[188]\tvalidation_0-mlogloss:1.41952\n",
      "[189]\tvalidation_0-mlogloss:1.41888\n",
      "[190]\tvalidation_0-mlogloss:1.41853\n",
      "[191]\tvalidation_0-mlogloss:1.41828\n",
      "[192]\tvalidation_0-mlogloss:1.41781\n",
      "[193]\tvalidation_0-mlogloss:1.41773\n",
      "[194]\tvalidation_0-mlogloss:1.41728\n",
      "[195]\tvalidation_0-mlogloss:1.41686\n",
      "[196]\tvalidation_0-mlogloss:1.41668\n",
      "[197]\tvalidation_0-mlogloss:1.41660\n",
      "[198]\tvalidation_0-mlogloss:1.41629\n",
      "[199]\tvalidation_0-mlogloss:1.41562\n"
     ]
    },
    {
     "data": {
      "text/plain": [
       "XGBClassifier(base_score=None, booster=None, callbacks=None,\n",
       "              colsample_bylevel=None, colsample_bynode=None,\n",
       "              colsample_bytree=None, early_stopping_rounds=None,\n",
       "              enable_categorical=False, eval_metric=None, feature_types=None,\n",
       "              gamma=None, gpu_id=None, grow_policy=None, importance_type=None,\n",
       "              interaction_constraints=None, learning_rate=0.1, max_bin=None,\n",
       "              max_cat_threshold=None, max_cat_to_onehot=None,\n",
       "              max_delta_step=None, max_depth=5, max_leaves=None,\n",
       "              min_child_weight=None, missing=nan, monotone_constraints=None,\n",
       "              n_estimators=200, n_jobs=-1, num_classes=7,\n",
       "              num_parallel_tree=None, objective='multi:softmax', ...)"
      ]
     },
     "execution_count": 17,
     "metadata": {},
     "output_type": "execute_result"
    }
   ],
   "source": [
    "clf.fit(X_train, y_train, eval_set=[(X_val, y_val)], early_stopping_rounds=10, verbose=1)\n"
   ]
  },
  {
   "cell_type": "code",
   "execution_count": 19,
   "id": "aa67a117",
   "metadata": {},
   "outputs": [],
   "source": [
    "y_pred = clf.predict(X_test)"
   ]
  },
  {
   "cell_type": "code",
   "execution_count": 20,
   "id": "86cf2577",
   "metadata": {},
   "outputs": [],
   "source": [
    "y_train_pred = clf.predict(X_train)"
   ]
  },
  {
   "cell_type": "code",
   "execution_count": 21,
   "id": "2aa6cd91",
   "metadata": {},
   "outputs": [
    {
     "name": "stdout",
     "output_type": "stream",
     "text": [
      "Training Classification\n",
      "              precision    recall  f1-score   support\n",
      "\n",
      "       Angry       0.94      0.74      0.83      3995\n",
      "     Disgust       1.00      0.95      0.97       436\n",
      "        Fear       0.93      0.75      0.83      4097\n",
      "       Happy       0.76      0.94      0.84      7215\n",
      "         Sad       0.84      0.81      0.83      4830\n",
      "    Surprise       0.92      0.86      0.89      3171\n",
      "     Neutral       0.79      0.85      0.82      4965\n",
      "\n",
      "    accuracy                           0.84     28709\n",
      "   macro avg       0.88      0.84      0.86     28709\n",
      "weighted avg       0.85      0.84      0.84     28709\n",
      "\n"
     ]
    }
   ],
   "source": [
    "from sklearn.metrics import classification_report\n",
    "\n",
    "target_names = ['Angry', 'Disgust', 'Fear', 'Happy', 'Sad', 'Surprise', 'Neutral']\n",
    "print('Training Classification')\n",
    "print(classification_report(y_train, y_train_pred, target_names=target_names, labels=[0, 1, 2, 3, 4, 5, 6]))\n"
   ]
  },
  {
   "cell_type": "code",
   "execution_count": 23,
   "id": "4f2f355d",
   "metadata": {},
   "outputs": [
    {
     "name": "stdout",
     "output_type": "stream",
     "text": [
      "Training Classification\n",
      "              precision    recall  f1-score   support\n",
      "\n",
      "       Angry       0.45      0.26      0.33       491\n",
      "     Disgust       1.00      0.29      0.45        55\n",
      "        Fear       0.41      0.26      0.32       528\n",
      "       Happy       0.52      0.74      0.61       879\n",
      "         Sad       0.37      0.39      0.38       594\n",
      "    Surprise       0.65      0.60      0.62       416\n",
      "     Neutral       0.43      0.47      0.45       626\n",
      "\n",
      "    accuracy                           0.48      3589\n",
      "   macro avg       0.55      0.43      0.45      3589\n",
      "weighted avg       0.47      0.48      0.46      3589\n",
      "\n"
     ]
    }
   ],
   "source": [
    "from sklearn.metrics import classification_report\n",
    "\n",
    "target_names = ['Angry', 'Disgust', 'Fear', 'Happy', 'Sad', 'Surprise', 'Neutral']\n",
    "print('Test Classification')\n",
    "print(classification_report(y_test, y_pred, target_names=target_names, labels=[0, 1, 2, 3, 4, 5, 6]))\n"
   ]
  },
  {
   "cell_type": "markdown",
   "id": "1cfee44e",
   "metadata": {},
   "source": [
    "When compared to the previous model, the regularized model performs somewhat better. There is, nevertheless, potential for improvement, particularly in reliably identifying emotions 0 (Angry), 1 (Disgust), 2 (Fear), and 4 (Sad). "
   ]
  },
  {
   "cell_type": "code",
   "execution_count": 24,
   "id": "a9e0c50d",
   "metadata": {},
   "outputs": [
    {
     "data": {
      "text/plain": [
       "['XGboost_model.pkl']"
      ]
     },
     "execution_count": 24,
     "metadata": {},
     "output_type": "execute_result"
    }
   ],
   "source": [
    "import joblib\n",
    "joblib.dump(clf, 'XGboost_model.pkl')\n"
   ]
  }
 ],
 "metadata": {
  "kernelspec": {
   "display_name": "Python 3 (ipykernel)",
   "language": "python",
   "name": "python3"
  },
  "language_info": {
   "codemirror_mode": {
    "name": "ipython",
    "version": 3
   },
   "file_extension": ".py",
   "mimetype": "text/x-python",
   "name": "python",
   "nbconvert_exporter": "python",
   "pygments_lexer": "ipython3",
   "version": "3.9.12"
  }
 },
 "nbformat": 4,
 "nbformat_minor": 5
}
