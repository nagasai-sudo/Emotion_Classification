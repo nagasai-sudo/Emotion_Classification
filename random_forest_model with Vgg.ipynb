{
 "cells": [
  {
   "cell_type": "markdown",
   "id": "93dfde77",
   "metadata": {},
   "source": [
    "# Random Forest Classifier for Facial Emotion Recognition\n",
    "\n",
    "This model is a Random Forest Classifier that has been trained to recognize face emotions. It classifies facial expressions into distinct emotion categories using a set of decision trees.\n",
    "\n",
    "In this notebook, we also tried VGG to see if it makes any difference."
   ]
  },
  {
   "cell_type": "markdown",
   "id": "2c89cc08",
   "metadata": {},
   "source": [
    "vgg_model.predict: Given a series of input photos, this method returns the predicted features from the VGG model."
   ]
  },
  {
   "cell_type": "code",
   "execution_count": 26,
   "id": "c6a04f40",
   "metadata": {},
   "outputs": [],
   "source": [
    "import pandas as pd\n",
    "import numpy as np\n"
   ]
  },
  {
   "cell_type": "code",
   "execution_count": 27,
   "id": "6ed09c21",
   "metadata": {},
   "outputs": [],
   "source": [
    "from tensorflow.keras.applications.vgg16 import VGG16\n",
    "from tensorflow.keras.applications.vgg16 import preprocess_input\n",
    "from sklearn.ensemble import RandomForestClassifier\n"
   ]
  },
  {
   "cell_type": "code",
   "execution_count": 28,
   "id": "27eac1c0",
   "metadata": {},
   "outputs": [],
   "source": [
    "vgg_model = VGG16(weights='imagenet', include_top=False, input_shape=(48, 48, 3))\n"
   ]
  },
  {
   "cell_type": "code",
   "execution_count": 29,
   "id": "1368ed41",
   "metadata": {},
   "outputs": [],
   "source": [
    "data = pd.read_csv('fer2013.csv')\n"
   ]
  },
  {
   "cell_type": "code",
   "execution_count": 30,
   "id": "b30c9a95",
   "metadata": {},
   "outputs": [],
   "source": [
    "data['pixels'] = data['pixels'].apply(lambda pixel_string: np.array(pixel_string.split(' '), dtype=np.int32))\n",
    "\n",
    "# Convert the single channel input images to three channels\n",
    "data['pixels'] = data['pixels'].apply(lambda pixel_array: np.stack((pixel_array,)*3, axis=-1))\n"
   ]
  },
  {
   "cell_type": "code",
   "execution_count": 31,
   "id": "938bfbeb",
   "metadata": {},
   "outputs": [],
   "source": [
    "train_data = data[data['Usage'] == 'Training']\n",
    "test_data = data[data['Usage'] == 'PublicTest']\n"
   ]
  },
  {
   "cell_type": "code",
   "execution_count": 32,
   "id": "6025a7df",
   "metadata": {},
   "outputs": [],
   "source": [
    "x_train = np.array(train_data['pixels'].tolist()).reshape(-1, 48, 48, 3)\n",
    "y_train = np.array(train_data['emotion'])\n",
    "x_test = np.array(test_data['pixels'].tolist()).reshape(-1, 48, 48, 3)\n",
    "y_test = np.array(test_data['emotion'])\n"
   ]
  },
  {
   "cell_type": "code",
   "execution_count": 33,
   "id": "2805e12b",
   "metadata": {},
   "outputs": [],
   "source": [
    "x_train_preprocessed = preprocess_input(x_train)\n",
    "x_test_preprocessed = preprocess_input(x_test)\n"
   ]
  },
  {
   "cell_type": "code",
   "execution_count": 34,
   "id": "739b0015",
   "metadata": {},
   "outputs": [
    {
     "name": "stdout",
     "output_type": "stream",
     "text": [
      "898/898 [==============================] - 466s 518ms/step\n",
      "113/113 [==============================] - 65s 578ms/step\n"
     ]
    }
   ],
   "source": [
    "x_train_features = vgg_model.predict(x_train_preprocessed)\n",
    "x_test_features = vgg_model.predict(x_test_preprocessed)\n"
   ]
  },
  {
   "cell_type": "code",
   "execution_count": 35,
   "id": "d634289f",
   "metadata": {},
   "outputs": [
    {
     "data": {
      "text/plain": [
       "RandomForestClassifier(random_state=42)"
      ]
     },
     "execution_count": 35,
     "metadata": {},
     "output_type": "execute_result"
    }
   ],
   "source": [
    "n_samples = len(x_train_features)\n",
    "n_features = np.prod(x_train_features.shape[1:])\n",
    "x_train_features = x_train_features.reshape((n_samples, n_features))\n",
    "\n",
    "\n",
    "rf_model = RandomForestClassifier(n_estimators=100, random_state=42)\n",
    "rf_model.fit(x_train_features, y_train)"
   ]
  },
  {
   "cell_type": "code",
   "execution_count": 36,
   "id": "15a9117b",
   "metadata": {},
   "outputs": [
    {
     "name": "stdout",
     "output_type": "stream",
     "text": [
      "Accuracy: 48.51%\n"
     ]
    }
   ],
   "source": [
    "n_samples = len(x_test_features)\n",
    "n_features = np.prod(x_test_features.shape[1:])\n",
    "x_test_features = x_test_features.reshape((n_samples, n_features))\n",
    "\n",
    "\n",
    "score = rf_model.score(x_test_features, y_test)\n",
    "print('Accuracy: {:.2f}%'.format(score * 100))"
   ]
  },
  {
   "cell_type": "code",
   "execution_count": 41,
   "id": "4c490b42",
   "metadata": {},
   "outputs": [],
   "source": [
    "y_pred = rf_model.predict(x_test_features)\n",
    "y_train_pred = rf_model.predict(x_train_features)"
   ]
  },
  {
   "cell_type": "code",
   "execution_count": 42,
   "id": "ffa112e8",
   "metadata": {},
   "outputs": [
    {
     "name": "stdout",
     "output_type": "stream",
     "text": [
      "Training Classification\n",
      "              precision    recall  f1-score   support\n",
      "\n",
      "       Angry       1.00      1.00      1.00      3995\n",
      "     Disgust       1.00      1.00      1.00       436\n",
      "        Fear       1.00      1.00      1.00      4097\n",
      "       Happy       1.00      1.00      1.00      7215\n",
      "         Sad       1.00      1.00      1.00      4830\n",
      "    Surprise       1.00      1.00      1.00      3171\n",
      "     Neutral       1.00      1.00      1.00      4965\n",
      "\n",
      "    accuracy                           1.00     28709\n",
      "   macro avg       1.00      1.00      1.00     28709\n",
      "weighted avg       1.00      1.00      1.00     28709\n",
      "\n"
     ]
    }
   ],
   "source": [
    "from sklearn.metrics import classification_report\n",
    "\n",
    "target_names = ['Angry', 'Disgust', 'Fear', 'Happy', 'Sad', 'Surprise', 'Neutral']\n",
    "print('Training Classification')\n",
    "print(classification_report(y_train, y_train_pred, target_names=target_names, labels=[0, 1, 2, 3, 4, 5, 6]))\n"
   ]
  },
  {
   "cell_type": "code",
   "execution_count": 38,
   "id": "86e73364",
   "metadata": {},
   "outputs": [
    {
     "name": "stdout",
     "output_type": "stream",
     "text": [
      "Test Classification\n",
      "              precision    recall  f1-score   support\n",
      "\n",
      "       Angry       0.48      0.29      0.36       467\n",
      "     Disgust       1.00      0.32      0.49        56\n",
      "        Fear       0.46      0.32      0.38       496\n",
      "       Happy       0.46      0.74      0.57       895\n",
      "         Sad       0.44      0.40      0.42       653\n",
      "    Surprise       0.66      0.71      0.69       415\n",
      "     Neutral       0.44      0.35      0.39       607\n",
      "\n",
      "    accuracy                           0.49      3589\n",
      "   macro avg       0.56      0.45      0.47      3589\n",
      "weighted avg       0.49      0.49      0.47      3589\n",
      "\n"
     ]
    }
   ],
   "source": [
    "from sklearn.metrics import classification_report\n",
    "\n",
    "target_names = ['Angry', 'Disgust', 'Fear', 'Happy', 'Sad', 'Surprise', 'Neutral']\n",
    "print('Test Classification')\n",
    "print(classification_report(y_test, y_pred, target_names=target_names, labels=[0, 1, 2, 3, 4, 5, 6]))\n"
   ]
  },
  {
   "cell_type": "markdown",
   "id": "c5df96b0",
   "metadata": {},
   "source": [
    "### Analysis:\n",
    "\n",
    "Precision: We can observe that the precision values range from 0.44 to 1.00 across different classes. This demonstrates the model's ability to categorize examples of each class accurately.\n",
    "\n",
    "Recall : Recall values vary among classes and range from 0.29 to 0.74.\n",
    "\n",
    "The F1-scores range from 0.36 to 0.69 across different classes.\n",
    "\n",
    "The overall accuracy of the model on the test set is 0.49.\n",
    "\n",
    "Overall, we can observe that the model does a slightly better job of categorizing the \"Disgust\" class, reaching perfect precision and a decent recall. However, other classes such as \"Angry,\" \"Fear,\" and \"Neutral\" have lower precision and recall ratings.\n"
   ]
  },
  {
   "cell_type": "code",
   "execution_count": 44,
   "id": "474516cd",
   "metadata": {},
   "outputs": [
    {
     "data": {
      "text/plain": [
       "['random_forest_model_withVGG.pkl']"
      ]
     },
     "execution_count": 44,
     "metadata": {},
     "output_type": "execute_result"
    }
   ],
   "source": [
    "import joblib\n",
    "\n",
    "joblib.dump(rf_model, \"random_forest_model_withVGG.pkl\")\n"
   ]
  },
  {
   "cell_type": "code",
   "execution_count": null,
   "id": "2214ebe3",
   "metadata": {},
   "outputs": [],
   "source": []
  }
 ],
 "metadata": {
  "kernelspec": {
   "display_name": "Python 3 (ipykernel)",
   "language": "python",
   "name": "python3"
  },
  "language_info": {
   "codemirror_mode": {
    "name": "ipython",
    "version": 3
   },
   "file_extension": ".py",
   "mimetype": "text/x-python",
   "name": "python",
   "nbconvert_exporter": "python",
   "pygments_lexer": "ipython3",
   "version": "3.9.12"
  }
 },
 "nbformat": 4,
 "nbformat_minor": 5
}
